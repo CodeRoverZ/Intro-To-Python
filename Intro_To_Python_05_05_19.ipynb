{
  "nbformat": 4,
  "nbformat_minor": 0,
  "metadata": {
    "colab": {
      "name": "Copy of Intro-To-Python-05-05-19.ipynb",
      "version": "0.3.2",
      "provenance": [],
      "include_colab_link": true
    },
    "kernelspec": {
      "name": "python3",
      "display_name": "Python 3"
    }
  },
  "cells": [
    {
      "cell_type": "markdown",
      "metadata": {
        "id": "view-in-github",
        "colab_type": "text"
      },
      "source": [
        "<a href=\"https://colab.research.google.com/github/CodeRoverZ/Intro-To-Python/blob/master/Intro_To_Python_05_05_19.ipynb\" target=\"_parent\"><img src=\"https://colab.research.google.com/assets/colab-badge.svg\" alt=\"Open In Colab\"/></a>"
      ]
    },
    {
      "cell_type": "markdown",
      "metadata": {
        "id": "2y2SlyL-K7h6",
        "colab_type": "text"
      },
      "source": [
        "# ***Basic Print Commands using single quotes***\n"
      ]
    },
    {
      "cell_type": "code",
      "metadata": {
        "id": "AkkQuGLeG_Pa",
        "colab_type": "code",
        "outputId": "f3bbfe6b-1bdf-4cec-83af-375d03d324c9",
        "colab": {
          "base_uri": "https://localhost:8080/",
          "height": 34
        }
      },
      "source": [
        "print('Welcome to Python Intro Class')"
      ],
      "execution_count": 0,
      "outputs": [
        {
          "output_type": "stream",
          "text": [
            "Welcome to Python Intro Class\n"
          ],
          "name": "stdout"
        }
      ]
    },
    {
      "cell_type": "markdown",
      "metadata": {
        "id": "3i1jewM6ISIO",
        "colab_type": "text"
      },
      "source": [
        "# **Basic Print Commands using double quotes** \n",
        "\n",
        "---\n",
        "\n",
        "\n",
        "\n"
      ]
    },
    {
      "cell_type": "code",
      "metadata": {
        "id": "_uYDDhydKJ1D",
        "colab_type": "code",
        "outputId": "ffbea6d7-873b-4347-c10e-62eeead15ece",
        "colab": {
          "base_uri": "https://localhost:8080/",
          "height": 34
        }
      },
      "source": [
        "print(\"Hello There !!\")"
      ],
      "execution_count": 0,
      "outputs": [
        {
          "output_type": "stream",
          "text": [
            "Hello There !!\n"
          ],
          "name": "stdout"
        }
      ]
    },
    {
      "cell_type": "markdown",
      "metadata": {
        "id": "RFpcAjayKnpw",
        "colab_type": "text"
      },
      "source": [
        "# **Concatenation of Strings**\n"
      ]
    },
    {
      "cell_type": "code",
      "metadata": {
        "id": "2bOC0NO9Kqpn",
        "colab_type": "code",
        "outputId": "bf79a5f1-ec03-41cd-8fff-db323550e6ec",
        "colab": {
          "base_uri": "https://localhost:8080/",
          "height": 34
        }
      },
      "source": [
        "print('Hello ' + 'World')"
      ],
      "execution_count": 0,
      "outputs": [
        {
          "output_type": "stream",
          "text": [
            "Hello World\n"
          ],
          "name": "stdout"
        }
      ]
    },
    {
      "cell_type": "code",
      "metadata": {
        "id": "sbDcoXPhLZOu",
        "colab_type": "code",
        "outputId": "4cb4d023-247f-4232-ccb3-dfa7a5172056",
        "colab": {
          "base_uri": "https://localhost:8080/",
          "height": 34
        }
      },
      "source": [
        "print('Hello', 'World')"
      ],
      "execution_count": 0,
      "outputs": [
        {
          "output_type": "stream",
          "text": [
            "Hello World\n"
          ],
          "name": "stdout"
        }
      ]
    },
    {
      "cell_type": "code",
      "metadata": {
        "id": "LcnhjrJCLzHY",
        "colab_type": "code",
        "outputId": "a06f9f31-f7b4-41c3-9e61-3e658b4264e4",
        "colab": {
          "base_uri": "https://localhost:8080/",
          "height": 34
        }
      },
      "source": [
        "print('you', 'can', 'concatenate', 'multiple', 'words.')"
      ],
      "execution_count": 0,
      "outputs": [
        {
          "output_type": "stream",
          "text": [
            "you can concatenate multiple words.\n"
          ],
          "name": "stdout"
        }
      ]
    },
    {
      "cell_type": "code",
      "metadata": {
        "id": "noEnjJT-MfXW",
        "colab_type": "code",
        "outputId": "f44bcffb-7ee1-47ba-a42f-8dcd4b82b617",
        "colab": {
          "base_uri": "https://localhost:8080/",
          "height": 34
        }
      },
      "source": [
        "print('you', 'can', 'concatenate', 'multiple', 'words', sep='-')"
      ],
      "execution_count": 0,
      "outputs": [
        {
          "output_type": "stream",
          "text": [
            "you*can*concatenate*multiple*words\n"
          ],
          "name": "stdout"
        }
      ]
    },
    {
      "cell_type": "code",
      "metadata": {
        "id": "z7nMflVRM140",
        "colab_type": "code",
        "outputId": "ba4e6476-e38f-4a5b-e184-dc46c55611f6",
        "colab": {
          "base_uri": "https://localhost:8080/",
          "height": 34
        }
      },
      "source": [
        "print('you', 'can', 'concatenate', 'multiple', 'words', sep='*')"
      ],
      "execution_count": 0,
      "outputs": [
        {
          "output_type": "stream",
          "text": [
            "you*can*concatenate*multiple*words\n"
          ],
          "name": "stdout"
        }
      ]
    },
    {
      "cell_type": "code",
      "metadata": {
        "id": "t97HKJE2NDdk",
        "colab_type": "code",
        "outputId": "36102520-e61c-45fa-e161-ab25a24ac036",
        "colab": {
          "base_uri": "https://localhost:8080/",
          "height": 34
        }
      },
      "source": [
        "print('you', 'can', 'concatenate', 'multiple', 'words', sep=';')"
      ],
      "execution_count": 0,
      "outputs": [
        {
          "output_type": "stream",
          "text": [
            "you;can;concatenate;multiple;words\n"
          ],
          "name": "stdout"
        }
      ]
    },
    {
      "cell_type": "markdown",
      "metadata": {
        "id": "9k7yXrS2MGK1",
        "colab_type": "text"
      },
      "source": [
        "# **Insert a new line using \\n**"
      ]
    },
    {
      "cell_type": "code",
      "metadata": {
        "id": "-gZSI7C3LeP5",
        "colab_type": "code",
        "outputId": "ebea3e98-8538-449a-eef6-3f4264a0f074",
        "colab": {
          "base_uri": "https://localhost:8080/",
          "height": 69
        }
      },
      "source": [
        "print('Hello \\n') \n",
        "print('world')"
      ],
      "execution_count": 0,
      "outputs": [
        {
          "output_type": "stream",
          "text": [
            "Hello \n",
            "\n",
            "world\n"
          ],
          "name": "stdout"
        }
      ]
    },
    {
      "cell_type": "markdown",
      "metadata": {
        "id": "f55nU9mcOJBb",
        "colab_type": "text"
      },
      "source": [
        "# **Print multiple lines using \"\"\" \"\"\" in the print function (Three single or double quotes in the print function)**"
      ]
    },
    {
      "cell_type": "code",
      "metadata": {
        "id": "h5ZF-t4-NG0_",
        "colab_type": "code",
        "outputId": "54305569-f278-4eb8-f8c5-c6642566201d",
        "colab": {
          "base_uri": "https://localhost:8080/",
          "height": 157
        }
      },
      "source": [
        "print(\"\"\"This is my first paragraph.This is my first paragraph.This is my first paragraph.This is my first paragraph.This is my first paragraph.This is my first paragraph.This is my first paragraph.This is my first paragraph.This is my first paragraph.This is my first paragraph.This is my first paragraph.This is my first paragraph.This is my first paragraph.This is my first paragraph.\n",
        "__________________________________-\n",
        "***************************************\n",
        "*************************************\n",
        "----------------------------------------\n",
        "This is my second paragrph.\n",
        "\"\"\")"
      ],
      "execution_count": 0,
      "outputs": [
        {
          "output_type": "stream",
          "text": [
            "This is my first paragraph.This is my first paragraph.This is my first paragraph.This is my first paragraph.This is my first paragraph.This is my first paragraph.This is my first paragraph.This is my first paragraph.This is my first paragraph.This is my first paragraph.This is my first paragraph.This is my first paragraph.This is my first paragraph.This is my first paragraph.\n",
            "__________________________________-\n",
            "***************************************\n",
            "*************************************\n",
            "----------------------------------------\n",
            "This is my second paragrph.\n",
            "\n"
          ],
          "name": "stdout"
        }
      ]
    },
    {
      "cell_type": "code",
      "metadata": {
        "id": "I8Px2021N7hw",
        "colab_type": "code",
        "outputId": "30a30d92-064d-4914-9658-8aee79531b08",
        "colab": {
          "base_uri": "https://localhost:8080/",
          "height": 131
        }
      },
      "source": [
        "print(\"This is my first line\n",
        "      This is my second line\")"
      ],
      "execution_count": 0,
      "outputs": [
        {
          "output_type": "error",
          "ename": "SyntaxError",
          "evalue": "ignored",
          "traceback": [
            "\u001b[0;36m  File \u001b[0;32m\"<ipython-input-26-3163273622a6>\"\u001b[0;36m, line \u001b[0;32m1\u001b[0m\n\u001b[0;31m    print(\"This is my first line\u001b[0m\n\u001b[0m                                ^\u001b[0m\n\u001b[0;31mSyntaxError\u001b[0m\u001b[0;31m:\u001b[0m EOL while scanning string literal\n"
          ]
        }
      ]
    },
    {
      "cell_type": "code",
      "metadata": {
        "id": "OUpS3nLsODmU",
        "colab_type": "code",
        "colab": {}
      },
      "source": [
        ""
      ],
      "execution_count": 0,
      "outputs": []
    }
  ]
}